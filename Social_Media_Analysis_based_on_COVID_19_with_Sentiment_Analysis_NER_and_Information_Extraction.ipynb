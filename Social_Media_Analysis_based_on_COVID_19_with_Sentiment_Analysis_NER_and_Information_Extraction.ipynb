{
  "nbformat": 4,
  "nbformat_minor": 0,
  "metadata": {
    "colab": {
      "name": "Social-Media-Analysis-based-on-COVID-19-with-Sentiment-Analysis-NER-and-Information-Extraction.ipynb",
      "provenance": [],
      "collapsed_sections": [],
      "toc_visible": true
    },
    "kernelspec": {
      "name": "python3",
      "display_name": "Python 3"
    },
    "language_info": {
      "name": "python"
    },
    "accelerator": "GPU"
  },
  "cells": [
    {
      "cell_type": "markdown",
      "metadata": {
        "id": "j0PBaxXxtCtp"
      },
      "source": [
        "### Imports for Analysis"
      ]
    },
    {
      "cell_type": "code",
      "metadata": {
        "id": "hdQUuwZ8toJl"
      },
      "source": [
        "!pip install ktrain"
      ],
      "execution_count": null,
      "outputs": []
    },
    {
      "cell_type": "code",
      "metadata": {
        "id": "b72ACNvXtVKZ"
      },
      "source": [
        "import nltk\n",
        "nltk.download('vader_lexicon')"
      ],
      "execution_count": null,
      "outputs": []
    },
    {
      "cell_type": "code",
      "metadata": {
        "id": "At1gRiAatJXe"
      },
      "source": [
        "import tensorflow as tf\n",
        "import tensorflow_datasets as tfds\n",
        "from tensorflow import keras\n",
        "import pandas as pd\n",
        "import numpy as np\n",
        "import matplotlib.pyplot as plt\n",
        "import seaborn as sns\n",
        "import datetime\n",
        "from datetime import date\n",
        "\n",
        "from nltk.sentiment.vader import SentimentIntensityAnalyzer\n",
        "\n",
        "from textblob import TextBlob\n",
        "\n",
        "import ktrain\n",
        "from ktrain import text"
      ],
      "execution_count": 4,
      "outputs": []
    },
    {
      "cell_type": "markdown",
      "metadata": {
        "id": "ppTdqhOorXFw"
      },
      "source": [
        "## DataFrame read from .csv file - Tweets from the selected theme"
      ]
    },
    {
      "cell_type": "code",
      "metadata": {
        "colab": {
          "base_uri": "https://localhost:8080/",
          "height": 204
        },
        "id": "7Jyd4awtuddL",
        "outputId": "12df81ea-1218-4300-8c94-45331089e444"
      },
      "source": [
        "twitter_dataframe = pd.read_csv(\"result.csv\")\n",
        "\n",
        "twitter_dataframe.head()"
      ],
      "execution_count": 6,
      "outputs": [
        {
          "output_type": "execute_result",
          "data": {
            "text/html": [
              "<div>\n",
              "<style scoped>\n",
              "    .dataframe tbody tr th:only-of-type {\n",
              "        vertical-align: middle;\n",
              "    }\n",
              "\n",
              "    .dataframe tbody tr th {\n",
              "        vertical-align: top;\n",
              "    }\n",
              "\n",
              "    .dataframe thead th {\n",
              "        text-align: right;\n",
              "    }\n",
              "</style>\n",
              "<table border=\"1\" class=\"dataframe\">\n",
              "  <thead>\n",
              "    <tr style=\"text-align: right;\">\n",
              "      <th></th>\n",
              "      <th>Time</th>\n",
              "      <th>UserName</th>\n",
              "      <th>Tweet_text</th>\n",
              "      <th>All_Hashtags</th>\n",
              "      <th>Followers_count</th>\n",
              "    </tr>\n",
              "  </thead>\n",
              "  <tbody>\n",
              "    <tr>\n",
              "      <th>0</th>\n",
              "      <td>2021-07-15 23:59:59</td>\n",
              "      <td>EncompassBt</td>\n",
              "      <td>Invest time in business process automation and...</td>\n",
              "      <td>['encompassbt', 'ITConsulting', 'ITStrategy', ...</td>\n",
              "      <td>1524</td>\n",
              "    </tr>\n",
              "    <tr>\n",
              "      <th>1</th>\n",
              "      <td>2021-07-15 23:59:59</td>\n",
              "      <td>gregtv1</td>\n",
              "      <td>@_juliabradley Dying of covid 19 is a bit of a...</td>\n",
              "      <td>[]</td>\n",
              "      <td>1044</td>\n",
              "    </tr>\n",
              "    <tr>\n",
              "      <th>2</th>\n",
              "      <td>2021-07-15 23:59:59</td>\n",
              "      <td>gurmeet_judge</td>\n",
              "      <td>Invest time in business process automation and...</td>\n",
              "      <td>['encompassbt', 'ITConsulting', 'ITStrategy', ...</td>\n",
              "      <td>884</td>\n",
              "    </tr>\n",
              "    <tr>\n",
              "      <th>3</th>\n",
              "      <td>2021-07-15 23:59:59</td>\n",
              "      <td>RobMaaddi</td>\n",
              "      <td>Washington Arizona Indianapolis and Los Angele...</td>\n",
              "      <td>[]</td>\n",
              "      <td>19180</td>\n",
              "    </tr>\n",
              "    <tr>\n",
              "      <th>4</th>\n",
              "      <td>2021-07-15 23:59:58</td>\n",
              "      <td>AnneLinstatter</td>\n",
              "      <td>What's worse airport waits or auto traffic Or ...</td>\n",
              "      <td>['vacations', 'Covid', 'travel', 'sanbernardin...</td>\n",
              "      <td>528</td>\n",
              "    </tr>\n",
              "  </tbody>\n",
              "</table>\n",
              "</div>"
            ],
            "text/plain": [
              "                  Time  ... Followers_count\n",
              "0  2021-07-15 23:59:59  ...            1524\n",
              "1  2021-07-15 23:59:59  ...            1044\n",
              "2  2021-07-15 23:59:59  ...             884\n",
              "3  2021-07-15 23:59:59  ...           19180\n",
              "4  2021-07-15 23:59:58  ...             528\n",
              "\n",
              "[5 rows x 5 columns]"
            ]
          },
          "metadata": {
            "tags": []
          },
          "execution_count": 6
        }
      ]
    },
    {
      "cell_type": "code",
      "metadata": {
        "colab": {
          "base_uri": "https://localhost:8080/"
        },
        "id": "m0MYMzWjwLcF",
        "outputId": "90b75416-a3ca-45d8-8768-dd09a6615dc0"
      },
      "source": [
        "twitter_dataframe.info()"
      ],
      "execution_count": 7,
      "outputs": [
        {
          "output_type": "stream",
          "text": [
            "<class 'pandas.core.frame.DataFrame'>\n",
            "RangeIndex: 50 entries, 0 to 49\n",
            "Data columns (total 5 columns):\n",
            " #   Column           Non-Null Count  Dtype \n",
            "---  ------           --------------  ----- \n",
            " 0   Time             50 non-null     object\n",
            " 1   UserName         50 non-null     object\n",
            " 2   Tweet_text       50 non-null     object\n",
            " 3   All_Hashtags     50 non-null     object\n",
            " 4   Followers_count  50 non-null     int64 \n",
            "dtypes: int64(1), object(4)\n",
            "memory usage: 2.1+ KB\n"
          ],
          "name": "stdout"
        }
      ]
    },
    {
      "cell_type": "markdown",
      "metadata": {
        "id": "sFX_sxLArK3A"
      },
      "source": [
        "## Sentiment Analysis with Different Tools"
      ]
    },
    {
      "cell_type": "markdown",
      "metadata": {
        "id": "C8RK7fOArt-u"
      },
      "source": [
        "### TextBlob Sentiment Analysis"
      ]
    },
    {
      "cell_type": "code",
      "metadata": {
        "id": "7tjSmDmRwqRB"
      },
      "source": [
        "twitter_dataframe_TextBlob = twitter_dataframe.copy()"
      ],
      "execution_count": 8,
      "outputs": []
    },
    {
      "cell_type": "code",
      "metadata": {
        "id": "7HW-Twtev7k2"
      },
      "source": [
        "def textblob_analysis(news_headline):\n",
        "  analysis = TextBlob(news_headline)\n",
        "  return analysis.sentiment.polarity"
      ],
      "execution_count": 9,
      "outputs": []
    },
    {
      "cell_type": "code",
      "metadata": {
        "id": "-ZrpRvtmwh1-"
      },
      "source": [
        "# Sentiment 'polarity' calculation for tweets\n",
        "twitter_dataframe_TextBlob['Compound'] = twitter_dataframe_TextBlob['Tweet_text'].apply(lambda tweet: textblob_analysis(tweet))"
      ],
      "execution_count": 10,
      "outputs": []
    },
    {
      "cell_type": "code",
      "metadata": {
        "colab": {
          "base_uri": "https://localhost:8080/",
          "height": 204
        },
        "id": "ltFlwW0FytfP",
        "outputId": "1adbda4a-8ec0-465f-bbde-bd585029d11f"
      },
      "source": [
        "twitter_dataframe_TextBlob.head()"
      ],
      "execution_count": 11,
      "outputs": [
        {
          "output_type": "execute_result",
          "data": {
            "text/html": [
              "<div>\n",
              "<style scoped>\n",
              "    .dataframe tbody tr th:only-of-type {\n",
              "        vertical-align: middle;\n",
              "    }\n",
              "\n",
              "    .dataframe tbody tr th {\n",
              "        vertical-align: top;\n",
              "    }\n",
              "\n",
              "    .dataframe thead th {\n",
              "        text-align: right;\n",
              "    }\n",
              "</style>\n",
              "<table border=\"1\" class=\"dataframe\">\n",
              "  <thead>\n",
              "    <tr style=\"text-align: right;\">\n",
              "      <th></th>\n",
              "      <th>Time</th>\n",
              "      <th>UserName</th>\n",
              "      <th>Tweet_text</th>\n",
              "      <th>All_Hashtags</th>\n",
              "      <th>Followers_count</th>\n",
              "      <th>Compound</th>\n",
              "    </tr>\n",
              "  </thead>\n",
              "  <tbody>\n",
              "    <tr>\n",
              "      <th>0</th>\n",
              "      <td>2021-07-15 23:59:59</td>\n",
              "      <td>EncompassBt</td>\n",
              "      <td>Invest time in business process automation and...</td>\n",
              "      <td>['encompassbt', 'ITConsulting', 'ITStrategy', ...</td>\n",
              "      <td>1524</td>\n",
              "      <td>0.0000</td>\n",
              "    </tr>\n",
              "    <tr>\n",
              "      <th>1</th>\n",
              "      <td>2021-07-15 23:59:59</td>\n",
              "      <td>gregtv1</td>\n",
              "      <td>@_juliabradley Dying of covid 19 is a bit of a...</td>\n",
              "      <td>[]</td>\n",
              "      <td>1044</td>\n",
              "      <td>0.0000</td>\n",
              "    </tr>\n",
              "    <tr>\n",
              "      <th>2</th>\n",
              "      <td>2021-07-15 23:59:59</td>\n",
              "      <td>gurmeet_judge</td>\n",
              "      <td>Invest time in business process automation and...</td>\n",
              "      <td>['encompassbt', 'ITConsulting', 'ITStrategy', ...</td>\n",
              "      <td>884</td>\n",
              "      <td>0.0000</td>\n",
              "    </tr>\n",
              "    <tr>\n",
              "      <th>3</th>\n",
              "      <td>2021-07-15 23:59:59</td>\n",
              "      <td>RobMaaddi</td>\n",
              "      <td>Washington Arizona Indianapolis and Los Angele...</td>\n",
              "      <td>[]</td>\n",
              "      <td>19180</td>\n",
              "      <td>0.0375</td>\n",
              "    </tr>\n",
              "    <tr>\n",
              "      <th>4</th>\n",
              "      <td>2021-07-15 23:59:58</td>\n",
              "      <td>AnneLinstatter</td>\n",
              "      <td>What's worse airport waits or auto traffic Or ...</td>\n",
              "      <td>['vacations', 'Covid', 'travel', 'sanbernardin...</td>\n",
              "      <td>528</td>\n",
              "      <td>-0.4000</td>\n",
              "    </tr>\n",
              "  </tbody>\n",
              "</table>\n",
              "</div>"
            ],
            "text/plain": [
              "                  Time        UserName  ... Followers_count Compound\n",
              "0  2021-07-15 23:59:59     EncompassBt  ...            1524   0.0000\n",
              "1  2021-07-15 23:59:59         gregtv1  ...            1044   0.0000\n",
              "2  2021-07-15 23:59:59   gurmeet_judge  ...             884   0.0000\n",
              "3  2021-07-15 23:59:59       RobMaaddi  ...           19180   0.0375\n",
              "4  2021-07-15 23:59:58  AnneLinstatter  ...             528  -0.4000\n",
              "\n",
              "[5 rows x 6 columns]"
            ]
          },
          "metadata": {
            "tags": []
          },
          "execution_count": 11
        }
      ]
    },
    {
      "cell_type": "code",
      "metadata": {
        "id": "sb_toELezKdM"
      },
      "source": [
        "# Label the tweets by the 'Compound' - by Sentiment Polarity values\n",
        "# ( In TextBlob the scale moves between -1 and 1 )\n",
        "def sentiment_declareation(sentiment_value):\n",
        "  if sentiment_value == 0:\n",
        "      return 'neutral'\n",
        "  elif 0 < sentiment_value <= 0.3:\n",
        "      return 'weakly_positive'\n",
        "  elif 0.3 < sentiment_value <= 0.6:\n",
        "      return 'positive'\n",
        "  elif 0.6 < sentiment_value <= 1:\n",
        "      return 'strongly_positive'\n",
        "  elif -0.3 < sentiment_value <= 0:\n",
        "      return 'weakly_negative'\n",
        "  elif -0.6 < sentiment_value <= -0.3:\n",
        "      return 'negative'\n",
        "  elif -1 < sentiment_value <= -0.6:\n",
        "      return 'strongly_negative'"
      ],
      "execution_count": 12,
      "outputs": []
    },
    {
      "cell_type": "code",
      "metadata": {
        "id": "9ijkvFk-0bwc"
      },
      "source": [
        "# Sentiment labels for tweets after the 'Compound'\n",
        "twitter_dataframe_TextBlob['Sentiment'] = twitter_dataframe_TextBlob['Compound'].apply(lambda value: sentiment_declareation(value))\n",
        "\n",
        "# Set the Sentiment analysis tool name\n",
        "twitter_dataframe_TextBlob['Tool'] = 'TextBlob'"
      ],
      "execution_count": 13,
      "outputs": []
    },
    {
      "cell_type": "code",
      "metadata": {
        "colab": {
          "base_uri": "https://localhost:8080/",
          "height": 204
        },
        "id": "9l9EJgWQ0vNn",
        "outputId": "1b76fb61-9632-40f7-d298-733eb226bcd6"
      },
      "source": [
        "twitter_dataframe_TextBlob.head()"
      ],
      "execution_count": 14,
      "outputs": [
        {
          "output_type": "execute_result",
          "data": {
            "text/html": [
              "<div>\n",
              "<style scoped>\n",
              "    .dataframe tbody tr th:only-of-type {\n",
              "        vertical-align: middle;\n",
              "    }\n",
              "\n",
              "    .dataframe tbody tr th {\n",
              "        vertical-align: top;\n",
              "    }\n",
              "\n",
              "    .dataframe thead th {\n",
              "        text-align: right;\n",
              "    }\n",
              "</style>\n",
              "<table border=\"1\" class=\"dataframe\">\n",
              "  <thead>\n",
              "    <tr style=\"text-align: right;\">\n",
              "      <th></th>\n",
              "      <th>Time</th>\n",
              "      <th>UserName</th>\n",
              "      <th>Tweet_text</th>\n",
              "      <th>All_Hashtags</th>\n",
              "      <th>Followers_count</th>\n",
              "      <th>Compound</th>\n",
              "      <th>Sentiment</th>\n",
              "      <th>Tool</th>\n",
              "    </tr>\n",
              "  </thead>\n",
              "  <tbody>\n",
              "    <tr>\n",
              "      <th>0</th>\n",
              "      <td>2021-07-15 23:59:59</td>\n",
              "      <td>EncompassBt</td>\n",
              "      <td>Invest time in business process automation and...</td>\n",
              "      <td>['encompassbt', 'ITConsulting', 'ITStrategy', ...</td>\n",
              "      <td>1524</td>\n",
              "      <td>0.0000</td>\n",
              "      <td>neutral</td>\n",
              "      <td>TextBlob</td>\n",
              "    </tr>\n",
              "    <tr>\n",
              "      <th>1</th>\n",
              "      <td>2021-07-15 23:59:59</td>\n",
              "      <td>gregtv1</td>\n",
              "      <td>@_juliabradley Dying of covid 19 is a bit of a...</td>\n",
              "      <td>[]</td>\n",
              "      <td>1044</td>\n",
              "      <td>0.0000</td>\n",
              "      <td>neutral</td>\n",
              "      <td>TextBlob</td>\n",
              "    </tr>\n",
              "    <tr>\n",
              "      <th>2</th>\n",
              "      <td>2021-07-15 23:59:59</td>\n",
              "      <td>gurmeet_judge</td>\n",
              "      <td>Invest time in business process automation and...</td>\n",
              "      <td>['encompassbt', 'ITConsulting', 'ITStrategy', ...</td>\n",
              "      <td>884</td>\n",
              "      <td>0.0000</td>\n",
              "      <td>neutral</td>\n",
              "      <td>TextBlob</td>\n",
              "    </tr>\n",
              "    <tr>\n",
              "      <th>3</th>\n",
              "      <td>2021-07-15 23:59:59</td>\n",
              "      <td>RobMaaddi</td>\n",
              "      <td>Washington Arizona Indianapolis and Los Angele...</td>\n",
              "      <td>[]</td>\n",
              "      <td>19180</td>\n",
              "      <td>0.0375</td>\n",
              "      <td>weakly_positive</td>\n",
              "      <td>TextBlob</td>\n",
              "    </tr>\n",
              "    <tr>\n",
              "      <th>4</th>\n",
              "      <td>2021-07-15 23:59:58</td>\n",
              "      <td>AnneLinstatter</td>\n",
              "      <td>What's worse airport waits or auto traffic Or ...</td>\n",
              "      <td>['vacations', 'Covid', 'travel', 'sanbernardin...</td>\n",
              "      <td>528</td>\n",
              "      <td>-0.4000</td>\n",
              "      <td>negative</td>\n",
              "      <td>TextBlob</td>\n",
              "    </tr>\n",
              "  </tbody>\n",
              "</table>\n",
              "</div>"
            ],
            "text/plain": [
              "                  Time        UserName  ...        Sentiment      Tool\n",
              "0  2021-07-15 23:59:59     EncompassBt  ...          neutral  TextBlob\n",
              "1  2021-07-15 23:59:59         gregtv1  ...          neutral  TextBlob\n",
              "2  2021-07-15 23:59:59   gurmeet_judge  ...          neutral  TextBlob\n",
              "3  2021-07-15 23:59:59       RobMaaddi  ...  weakly_positive  TextBlob\n",
              "4  2021-07-15 23:59:58  AnneLinstatter  ...         negative  TextBlob\n",
              "\n",
              "[5 rows x 8 columns]"
            ]
          },
          "metadata": {
            "tags": []
          },
          "execution_count": 14
        }
      ]
    },
    {
      "cell_type": "code",
      "metadata": {
        "colab": {
          "base_uri": "https://localhost:8080/"
        },
        "id": "ESFWWCyS1OP8",
        "outputId": "ecabc875-35ff-4c8e-a14e-35aa210beaa3"
      },
      "source": [
        "# Sentiment informations with TextBlob\n",
        "twitter_dataframe_TextBlob['Sentiment'].value_counts()"
      ],
      "execution_count": 15,
      "outputs": [
        {
          "output_type": "execute_result",
          "data": {
            "text/plain": [
              "neutral            21\n",
              "weakly_positive    13\n",
              "weakly_negative     8\n",
              "negative            5\n",
              "positive            3\n",
              "Name: Sentiment, dtype: int64"
            ]
          },
          "metadata": {
            "tags": []
          },
          "execution_count": 15
        }
      ]
    },
    {
      "cell_type": "markdown",
      "metadata": {
        "id": "KvysyN9yrzlH"
      },
      "source": [
        "### NLTK Sentiment Analysis"
      ]
    },
    {
      "cell_type": "code",
      "metadata": {
        "id": "SMj6e3N051ZU"
      },
      "source": [
        "twitter_dataframe_NLTK = twitter_dataframe.copy()"
      ],
      "execution_count": 16,
      "outputs": []
    },
    {
      "cell_type": "code",
      "metadata": {
        "id": "ABMdheMF1dCq"
      },
      "source": [
        "sia=SentimentIntensityAnalyzer()\n",
        "\n",
        "# Sentiment 'polarity' calculation for tweets\n",
        "twitter_dataframe_NLTK['Compound'] = twitter_dataframe_NLTK['Tweet_text'].apply(lambda tweet: sia.polarity_scores(tweet)['compound'])"
      ],
      "execution_count": 17,
      "outputs": []
    },
    {
      "cell_type": "code",
      "metadata": {
        "id": "ccUpmRPl6Ery"
      },
      "source": [
        "# Label the tweets by the 'Compound' - by Sentiment Polarity values\n",
        "# ( In NLTK the scale moves between -1 and 1 )\n",
        "def sentiment_declareation(sentiment_value):\n",
        "  if sentiment_value == 0:\n",
        "      return 'neutral'\n",
        "  elif 0 < sentiment_value <= 0.3:\n",
        "      return 'weakly_positive'\n",
        "  elif 0.3 < sentiment_value <= 0.6:\n",
        "      return 'positive'\n",
        "  elif 0.6 < sentiment_value <= 1:\n",
        "      return 'strongly_positive'\n",
        "  elif -0.3 < sentiment_value <= 0:\n",
        "      return 'weakly_negative'\n",
        "  elif -0.6 < sentiment_value <= -0.3:\n",
        "      return 'negative'\n",
        "  elif -1 < sentiment_value <= -0.6:\n",
        "      return 'strongly_negative'"
      ],
      "execution_count": 18,
      "outputs": []
    },
    {
      "cell_type": "code",
      "metadata": {
        "id": "1pXj0p9c6Xun"
      },
      "source": [
        "# Sentiment labels for tweets after the 'Compound'\n",
        "twitter_dataframe_NLTK['Sentiment'] = twitter_dataframe_NLTK['Compound'].apply(lambda value: sentiment_declareation(value))\n",
        "\n",
        "# Set the Sentiment analysis tool name\n",
        "twitter_dataframe_NLTK['Tool'] = 'NLTK'"
      ],
      "execution_count": 19,
      "outputs": []
    },
    {
      "cell_type": "code",
      "metadata": {
        "colab": {
          "base_uri": "https://localhost:8080/",
          "height": 204
        },
        "id": "2eM5-tC06p3_",
        "outputId": "8cae8bb3-434e-4ec9-8b35-9075c7377559"
      },
      "source": [
        "twitter_dataframe_NLTK.head()"
      ],
      "execution_count": 20,
      "outputs": [
        {
          "output_type": "execute_result",
          "data": {
            "text/html": [
              "<div>\n",
              "<style scoped>\n",
              "    .dataframe tbody tr th:only-of-type {\n",
              "        vertical-align: middle;\n",
              "    }\n",
              "\n",
              "    .dataframe tbody tr th {\n",
              "        vertical-align: top;\n",
              "    }\n",
              "\n",
              "    .dataframe thead th {\n",
              "        text-align: right;\n",
              "    }\n",
              "</style>\n",
              "<table border=\"1\" class=\"dataframe\">\n",
              "  <thead>\n",
              "    <tr style=\"text-align: right;\">\n",
              "      <th></th>\n",
              "      <th>Time</th>\n",
              "      <th>UserName</th>\n",
              "      <th>Tweet_text</th>\n",
              "      <th>All_Hashtags</th>\n",
              "      <th>Followers_count</th>\n",
              "      <th>Compound</th>\n",
              "      <th>Sentiment</th>\n",
              "      <th>Tool</th>\n",
              "    </tr>\n",
              "  </thead>\n",
              "  <tbody>\n",
              "    <tr>\n",
              "      <th>0</th>\n",
              "      <td>2021-07-15 23:59:59</td>\n",
              "      <td>EncompassBt</td>\n",
              "      <td>Invest time in business process automation and...</td>\n",
              "      <td>['encompassbt', 'ITConsulting', 'ITStrategy', ...</td>\n",
              "      <td>1524</td>\n",
              "      <td>0.0000</td>\n",
              "      <td>neutral</td>\n",
              "      <td>NLTK</td>\n",
              "    </tr>\n",
              "    <tr>\n",
              "      <th>1</th>\n",
              "      <td>2021-07-15 23:59:59</td>\n",
              "      <td>gregtv1</td>\n",
              "      <td>@_juliabradley Dying of covid 19 is a bit of a...</td>\n",
              "      <td>[]</td>\n",
              "      <td>1044</td>\n",
              "      <td>0.0000</td>\n",
              "      <td>neutral</td>\n",
              "      <td>NLTK</td>\n",
              "    </tr>\n",
              "    <tr>\n",
              "      <th>2</th>\n",
              "      <td>2021-07-15 23:59:59</td>\n",
              "      <td>gurmeet_judge</td>\n",
              "      <td>Invest time in business process automation and...</td>\n",
              "      <td>['encompassbt', 'ITConsulting', 'ITStrategy', ...</td>\n",
              "      <td>884</td>\n",
              "      <td>0.0000</td>\n",
              "      <td>neutral</td>\n",
              "      <td>NLTK</td>\n",
              "    </tr>\n",
              "    <tr>\n",
              "      <th>3</th>\n",
              "      <td>2021-07-15 23:59:59</td>\n",
              "      <td>RobMaaddi</td>\n",
              "      <td>Washington Arizona Indianapolis and Los Angele...</td>\n",
              "      <td>[]</td>\n",
              "      <td>19180</td>\n",
              "      <td>0.0000</td>\n",
              "      <td>neutral</td>\n",
              "      <td>NLTK</td>\n",
              "    </tr>\n",
              "    <tr>\n",
              "      <th>4</th>\n",
              "      <td>2021-07-15 23:59:58</td>\n",
              "      <td>AnneLinstatter</td>\n",
              "      <td>What's worse airport waits or auto traffic Or ...</td>\n",
              "      <td>['vacations', 'Covid', 'travel', 'sanbernardin...</td>\n",
              "      <td>528</td>\n",
              "      <td>-0.6486</td>\n",
              "      <td>strongly_negative</td>\n",
              "      <td>NLTK</td>\n",
              "    </tr>\n",
              "  </tbody>\n",
              "</table>\n",
              "</div>"
            ],
            "text/plain": [
              "                  Time        UserName  ...          Sentiment  Tool\n",
              "0  2021-07-15 23:59:59     EncompassBt  ...            neutral  NLTK\n",
              "1  2021-07-15 23:59:59         gregtv1  ...            neutral  NLTK\n",
              "2  2021-07-15 23:59:59   gurmeet_judge  ...            neutral  NLTK\n",
              "3  2021-07-15 23:59:59       RobMaaddi  ...            neutral  NLTK\n",
              "4  2021-07-15 23:59:58  AnneLinstatter  ...  strongly_negative  NLTK\n",
              "\n",
              "[5 rows x 8 columns]"
            ]
          },
          "metadata": {
            "tags": []
          },
          "execution_count": 20
        }
      ]
    },
    {
      "cell_type": "code",
      "metadata": {
        "colab": {
          "base_uri": "https://localhost:8080/"
        },
        "id": "p66yVHV76r_X",
        "outputId": "859cedb4-cdb5-41e2-85cf-3219587e0923"
      },
      "source": [
        "# Sentiment informations with NLTK - vader lexicon\n",
        "twitter_dataframe_NLTK['Sentiment'].value_counts()"
      ],
      "execution_count": 21,
      "outputs": [
        {
          "output_type": "execute_result",
          "data": {
            "text/plain": [
              "neutral              13\n",
              "positive              8\n",
              "strongly_positive     7\n",
              "weakly_negative       7\n",
              "strongly_negative     6\n",
              "weakly_positive       5\n",
              "negative              4\n",
              "Name: Sentiment, dtype: int64"
            ]
          },
          "metadata": {
            "tags": []
          },
          "execution_count": 21
        }
      ]
    },
    {
      "cell_type": "markdown",
      "metadata": {
        "id": "r3zGf-bVr3xo"
      },
      "source": [
        "### RNN (Recurrent neural network) Sentiment Analysis"
      ]
    },
    {
      "cell_type": "code",
      "metadata": {
        "id": "k6Qm46X46-H2"
      },
      "source": [
        "twitter_dataframe_RNN = twitter_dataframe.copy()"
      ],
      "execution_count": 22,
      "outputs": []
    },
    {
      "cell_type": "code",
      "metadata": {
        "id": "ca7iBguk7omy"
      },
      "source": [
        "# LOAD previous model\n",
        "model = keras.models.load_model(\"RNN_2020-04-17.h5\")"
      ],
      "execution_count": 61,
      "outputs": []
    },
    {
      "cell_type": "code",
      "metadata": {
        "id": "x4oCSjJB7Bis"
      },
      "source": [
        "BUFFER_SIZE = 10000\n",
        "BATCH_SIZE = 64\n",
        "tweetTexts = []"
      ],
      "execution_count": 25,
      "outputs": []
    },
    {
      "cell_type": "code",
      "metadata": {
        "id": "i4QZdvjn7PkU"
      },
      "source": [
        "# Test and tran datasets using the tensorflow datasets possibility\n",
        "dataSet, info = tfds.load('imdb_reviews/subwords8k', with_info=True, as_supervised=True)\n",
        "train_dataSet, test_dataSet = dataSet['train'], dataSet['test']\n",
        "encoder = info.features['text'].encoder"
      ],
      "execution_count": null,
      "outputs": []
    },
    {
      "cell_type": "code",
      "metadata": {
        "id": "82LA-lFQ8N3w"
      },
      "source": [
        "# Set the test and train datasets with the batch size and suffle\n",
        "padded_shapes = ([None], ())\n",
        "train_dataSet = train_dataSet.shuffle(BUFFER_SIZE).padded_batch(BATCH_SIZE, padded_shapes=padded_shapes)\n",
        "test_dataSet = test_dataSet.padded_batch(BATCH_SIZE, padded_shapes=padded_shapes)"
      ],
      "execution_count": 27,
      "outputs": []
    },
    {
      "cell_type": "code",
      "metadata": {
        "id": "JD1ztoki8opI"
      },
      "source": [
        "# RNN model\n",
        "model = tf.keras.Sequential([tf.keras.layers.Embedding(encoder.vocab_size, 64),\n",
        "                              tf.keras.layers.Bidirectional(tf.keras.layers.LSTM(64, return_sequences=True)),\n",
        "                              tf.keras.layers.Bidirectional(tf.keras.layers.LSTM(32)),\n",
        "                              tf.keras.layers.Dense(64, activation='relu'),\n",
        "                              tf.keras.layers.Dropout(0.5),\n",
        "                              tf.keras.layers.Dense(1, activation='sigmoid')])"
      ],
      "execution_count": 45,
      "outputs": []
    },
    {
      "cell_type": "code",
      "metadata": {
        "id": "Pyx2z4rP8vJX"
      },
      "source": [
        "# To configure the training process\n",
        "model.compile(loss='binary_crossentropy',\n",
        "              optimizer=tf.keras.optimizers.Adam(1e-4),\n",
        "              metrics=['accuracy'])"
      ],
      "execution_count": 48,
      "outputs": []
    },
    {
      "cell_type": "code",
      "metadata": {
        "colab": {
          "base_uri": "https://localhost:8080/"
        },
        "id": "lDTQ6WBv9Ypu",
        "outputId": "56c3c096-d16f-420a-aeb7-f21c14cabf33"
      },
      "source": [
        "# Model Train\n",
        "fit_model = model.fit(train_dataSet, epochs=10, \n",
        "                      validation_data=test_dataSet, \n",
        "                      validation_steps=30)"
      ],
      "execution_count": 49,
      "outputs": [
        {
          "output_type": "stream",
          "text": [
            "Epoch 1/10\n",
            "391/391 [==============================] - 81s 193ms/step - loss: 0.6551 - accuracy: 0.5831 - val_loss: 0.4737 - val_accuracy: 0.7891\n",
            "Epoch 2/10\n",
            "391/391 [==============================] - 75s 191ms/step - loss: 0.3658 - accuracy: 0.8559 - val_loss: 0.3462 - val_accuracy: 0.8661\n",
            "Epoch 3/10\n",
            "391/391 [==============================] - 76s 192ms/step - loss: 0.2647 - accuracy: 0.9058 - val_loss: 0.3690 - val_accuracy: 0.8599\n",
            "Epoch 4/10\n",
            "391/391 [==============================] - 76s 192ms/step - loss: 0.2181 - accuracy: 0.9291 - val_loss: 0.3650 - val_accuracy: 0.8661\n",
            "Epoch 5/10\n",
            "391/391 [==============================] - 76s 194ms/step - loss: 0.1921 - accuracy: 0.9382 - val_loss: 0.3897 - val_accuracy: 0.8599\n",
            "Epoch 6/10\n",
            "391/391 [==============================] - 77s 196ms/step - loss: 0.1687 - accuracy: 0.9488 - val_loss: 0.4191 - val_accuracy: 0.8547\n",
            "Epoch 7/10\n",
            "391/391 [==============================] - 76s 193ms/step - loss: 0.1476 - accuracy: 0.9568 - val_loss: 0.4688 - val_accuracy: 0.8521\n",
            "Epoch 8/10\n",
            "391/391 [==============================] - 77s 194ms/step - loss: 0.1343 - accuracy: 0.9625 - val_loss: 0.4576 - val_accuracy: 0.8505\n",
            "Epoch 9/10\n",
            "391/391 [==============================] - 77s 195ms/step - loss: 0.1158 - accuracy: 0.9688 - val_loss: 0.4765 - val_accuracy: 0.8484\n",
            "Epoch 10/10\n",
            "391/391 [==============================] - 76s 194ms/step - loss: 0.1038 - accuracy: 0.9748 - val_loss: 0.5581 - val_accuracy: 0.8417\n"
          ],
          "name": "stdout"
        }
      ]
    },
    {
      "cell_type": "code",
      "metadata": {
        "colab": {
          "base_uri": "https://localhost:8080/"
        },
        "id": "fmkCChxB92Hc",
        "outputId": "00739ba0-f88e-4912-bd58-e10f108affcb"
      },
      "source": [
        "test_loss, test_acc = model.evaluate(test_dataSet)\n",
        "\n",
        "print('Test Loss:', test_loss)\n",
        "print('Test Accuracy:', test_acc)"
      ],
      "execution_count": 50,
      "outputs": [
        {
          "output_type": "stream",
          "text": [
            "391/391 [==============================] - 35s 89ms/step - loss: 0.5300 - accuracy: 0.8473\n",
            "Test Loss: 0.5299970507621765\n",
            "Test Accuracy: 0.8472800254821777\n"
          ],
          "name": "stdout"
        }
      ]
    },
    {
      "cell_type": "code",
      "metadata": {
        "id": "94Udm10FDZUN"
      },
      "source": [
        "def plot_graphs(history, metric):\n",
        "  plt.plot(history.history[metric])\n",
        "  plt.plot(history.history['val_'+metric], '')\n",
        "  plt.xlabel(\"Epochs\")\n",
        "  plt.ylabel(metric)\n",
        "  plt.legend([metric, 'val_'+metric])"
      ],
      "execution_count": 51,
      "outputs": []
    },
    {
      "cell_type": "code",
      "metadata": {
        "id": "EHoM5o1u99xR"
      },
      "source": [
        "plt.figure(figsize=(16, 6))\n",
        "plt.subplot(1, 2, 1)\n",
        "plot_graphs(fit_model, 'accuracy')\n",
        "plt.subplot(1, 2, 2)\n",
        "plot_graphs(fit_model, 'loss')"
      ],
      "execution_count": null,
      "outputs": []
    },
    {
      "cell_type": "code",
      "metadata": {
        "id": "yqny0tGQ9n4I"
      },
      "source": [
        "# Save the trained model\n",
        "today = date.today()\n",
        "model.save('RNN_' + str(today) + '.h5')"
      ],
      "execution_count": null,
      "outputs": []
    },
    {
      "cell_type": "code",
      "metadata": {
        "id": "ICnDSA_0EN4Q"
      },
      "source": [
        "def pad_to_size(vec, size):\n",
        "  zeros = [0] * (size - len(vec))\n",
        "  vec.extend(zeros)\n",
        "  return vec"
      ],
      "execution_count": 53,
      "outputs": []
    },
    {
      "cell_type": "code",
      "metadata": {
        "id": "2-5XEYkkEPj5"
      },
      "source": [
        "# Predict the 'Compound' - Sentiment values\n",
        "def predict(post, pad):\n",
        "  encoded_sample_pred_text = encoder.encode(post)\n",
        "  if pad:\n",
        "      encoded_sample_pred_text = pad_to_size(encoded_sample_pred_text, 64)\n",
        "  encoded_sample_pred_text = tf.cast(encoded_sample_pred_text, tf.float32)\n",
        "  predictions = model.predict(tf.expand_dims(encoded_sample_pred_text, 0))\n",
        "  return predictions"
      ],
      "execution_count": 62,
      "outputs": []
    },
    {
      "cell_type": "code",
      "metadata": {
        "colab": {
          "base_uri": "https://localhost:8080/"
        },
        "id": "b_OXG4sIESqU",
        "outputId": "41d6a4b2-093c-490f-f072-ff9448555e79"
      },
      "source": [
        "sample_text = ('This movie was awesome. The acting was incredible.')\n",
        "prediction_ex = predict(sample_text, pad=True)\n",
        "prediction_ex"
      ],
      "execution_count": 63,
      "outputs": [
        {
          "output_type": "execute_result",
          "data": {
            "text/plain": [
              "array([[0.91235095]], dtype=float32)"
            ]
          },
          "metadata": {
            "tags": []
          },
          "execution_count": 63
        }
      ]
    },
    {
      "cell_type": "code",
      "metadata": {
        "colab": {
          "base_uri": "https://localhost:8080/"
        },
        "id": "Mrqe-ITyFfLw",
        "outputId": "779a79d0-76eb-4c24-e702-aa350bd5d466"
      },
      "source": [
        "sample_text_2 = ('This movie was so so. The acting was medicore.')\n",
        "prediction_ex_2 = predict(sample_text_2, pad=True)\n",
        "prediction_ex_2"
      ],
      "execution_count": 64,
      "outputs": [
        {
          "output_type": "execute_result",
          "data": {
            "text/plain": [
              "array([[0.5152679]], dtype=float32)"
            ]
          },
          "metadata": {
            "tags": []
          },
          "execution_count": 64
        }
      ]
    },
    {
      "cell_type": "code",
      "metadata": {
        "colab": {
          "base_uri": "https://localhost:8080/"
        },
        "id": "VDWzrcChFpEt",
        "outputId": "848ef011-cf8f-41d6-b4a7-80690479d3b8"
      },
      "source": [
        "sample_text_3 = ('This movie was wierd. The acting was annoying.')\n",
        "prediction_ex_3 = predict(sample_text_3, pad=True)\n",
        "prediction_ex_3"
      ],
      "execution_count": 65,
      "outputs": [
        {
          "output_type": "execute_result",
          "data": {
            "text/plain": [
              "array([[0.33125496]], dtype=float32)"
            ]
          },
          "metadata": {
            "tags": []
          },
          "execution_count": 65
        }
      ]
    },
    {
      "cell_type": "code",
      "metadata": {
        "id": "KHWnr19zGbRp"
      },
      "source": [
        "# Predict the tweets 'Compound' - Sentiment values\n",
        "twitter_dataframe_RNN['Compound'] = twitter_dataframe_RNN['Tweet_text'].apply(lambda tweet: float(predict(tweet, pad=True)))"
      ],
      "execution_count": 66,
      "outputs": []
    },
    {
      "cell_type": "code",
      "metadata": {
        "id": "qDq3Dr_vF77Z"
      },
      "source": [
        "# Label the tweets by the 'Compound' - by Sentiment prediction values\n",
        "# ( In RNN the scale moves between 0 and 1 )\n",
        "def sentiment_declareation(sentiment_value):\n",
        "  if sentiment_value == 0.5:\n",
        "      return 'neutral'\n",
        "  elif 0.6 < sentiment_value <= 0.7:\n",
        "      return 'weakly_positive'\n",
        "  elif 0.7 < sentiment_value <= 0.9:\n",
        "      return 'positive'\n",
        "  elif 0.9 < sentiment_value <= 1:\n",
        "      return 'strongly_positive'\n",
        "  elif 0.3 < sentiment_value <= 0.4:\n",
        "      return 'weakly_negative'\n",
        "  elif 0.1 < sentiment_value <= 0.3:\n",
        "      return 'negative'\n",
        "  elif 0 < sentiment_value <= 0.1:\n",
        "      return 'strongly_negative'"
      ],
      "execution_count": 67,
      "outputs": []
    },
    {
      "cell_type": "code",
      "metadata": {
        "id": "e60R_VuXHmqA"
      },
      "source": [
        "# Sentiment labels for tweets after the 'Compound'\n",
        "twitter_dataframe_RNN['Sentiment'] = twitter_dataframe_RNN['Compound'].apply(lambda value: sentiment_declareation(value))\n",
        "\n",
        "# Set the Sentiment analysis tool name\n",
        "twitter_dataframe_RNN['Tool'] = 'RNN'"
      ],
      "execution_count": 68,
      "outputs": []
    },
    {
      "cell_type": "code",
      "metadata": {
        "colab": {
          "base_uri": "https://localhost:8080/",
          "height": 204
        },
        "id": "tNuHVeJ7IJ36",
        "outputId": "e4216f5d-be79-44e0-998a-1dad791553e1"
      },
      "source": [
        "twitter_dataframe_RNN.head()"
      ],
      "execution_count": 69,
      "outputs": [
        {
          "output_type": "execute_result",
          "data": {
            "text/html": [
              "<div>\n",
              "<style scoped>\n",
              "    .dataframe tbody tr th:only-of-type {\n",
              "        vertical-align: middle;\n",
              "    }\n",
              "\n",
              "    .dataframe tbody tr th {\n",
              "        vertical-align: top;\n",
              "    }\n",
              "\n",
              "    .dataframe thead th {\n",
              "        text-align: right;\n",
              "    }\n",
              "</style>\n",
              "<table border=\"1\" class=\"dataframe\">\n",
              "  <thead>\n",
              "    <tr style=\"text-align: right;\">\n",
              "      <th></th>\n",
              "      <th>Time</th>\n",
              "      <th>UserName</th>\n",
              "      <th>Tweet_text</th>\n",
              "      <th>All_Hashtags</th>\n",
              "      <th>Followers_count</th>\n",
              "      <th>Compound</th>\n",
              "      <th>Sentiment</th>\n",
              "      <th>Tool</th>\n",
              "    </tr>\n",
              "  </thead>\n",
              "  <tbody>\n",
              "    <tr>\n",
              "      <th>0</th>\n",
              "      <td>2021-07-15 23:59:59</td>\n",
              "      <td>EncompassBt</td>\n",
              "      <td>Invest time in business process automation and...</td>\n",
              "      <td>['encompassbt', 'ITConsulting', 'ITStrategy', ...</td>\n",
              "      <td>1524</td>\n",
              "      <td>0.166641</td>\n",
              "      <td>negative</td>\n",
              "      <td>RNN</td>\n",
              "    </tr>\n",
              "    <tr>\n",
              "      <th>1</th>\n",
              "      <td>2021-07-15 23:59:59</td>\n",
              "      <td>gregtv1</td>\n",
              "      <td>@_juliabradley Dying of covid 19 is a bit of a...</td>\n",
              "      <td>[]</td>\n",
              "      <td>1044</td>\n",
              "      <td>0.757975</td>\n",
              "      <td>positive</td>\n",
              "      <td>RNN</td>\n",
              "    </tr>\n",
              "    <tr>\n",
              "      <th>2</th>\n",
              "      <td>2021-07-15 23:59:59</td>\n",
              "      <td>gurmeet_judge</td>\n",
              "      <td>Invest time in business process automation and...</td>\n",
              "      <td>['encompassbt', 'ITConsulting', 'ITStrategy', ...</td>\n",
              "      <td>884</td>\n",
              "      <td>0.166641</td>\n",
              "      <td>negative</td>\n",
              "      <td>RNN</td>\n",
              "    </tr>\n",
              "    <tr>\n",
              "      <th>3</th>\n",
              "      <td>2021-07-15 23:59:59</td>\n",
              "      <td>RobMaaddi</td>\n",
              "      <td>Washington Arizona Indianapolis and Los Angele...</td>\n",
              "      <td>[]</td>\n",
              "      <td>19180</td>\n",
              "      <td>0.886178</td>\n",
              "      <td>positive</td>\n",
              "      <td>RNN</td>\n",
              "    </tr>\n",
              "    <tr>\n",
              "      <th>4</th>\n",
              "      <td>2021-07-15 23:59:58</td>\n",
              "      <td>AnneLinstatter</td>\n",
              "      <td>What's worse airport waits or auto traffic Or ...</td>\n",
              "      <td>['vacations', 'Covid', 'travel', 'sanbernardin...</td>\n",
              "      <td>528</td>\n",
              "      <td>0.133800</td>\n",
              "      <td>negative</td>\n",
              "      <td>RNN</td>\n",
              "    </tr>\n",
              "  </tbody>\n",
              "</table>\n",
              "</div>"
            ],
            "text/plain": [
              "                  Time        UserName  ... Sentiment Tool\n",
              "0  2021-07-15 23:59:59     EncompassBt  ...  negative  RNN\n",
              "1  2021-07-15 23:59:59         gregtv1  ...  positive  RNN\n",
              "2  2021-07-15 23:59:59   gurmeet_judge  ...  negative  RNN\n",
              "3  2021-07-15 23:59:59       RobMaaddi  ...  positive  RNN\n",
              "4  2021-07-15 23:59:58  AnneLinstatter  ...  negative  RNN\n",
              "\n",
              "[5 rows x 8 columns]"
            ]
          },
          "metadata": {
            "tags": []
          },
          "execution_count": 69
        }
      ]
    },
    {
      "cell_type": "code",
      "metadata": {
        "colab": {
          "base_uri": "https://localhost:8080/"
        },
        "id": "n-08WegAIKP1",
        "outputId": "46edaaa6-7333-4c03-cf02-86b064e7f825"
      },
      "source": [
        "# Sentiment informations with RNN\n",
        "twitter_dataframe_RNN['Sentiment'].value_counts()"
      ],
      "execution_count": 70,
      "outputs": [
        {
          "output_type": "execute_result",
          "data": {
            "text/plain": [
              "negative             16\n",
              "positive              8\n",
              "weakly_negative       8\n",
              "strongly_negative     6\n",
              "strongly_positive     5\n",
              "weakly_positive       5\n",
              "Name: Sentiment, dtype: int64"
            ]
          },
          "metadata": {
            "tags": []
          },
          "execution_count": 70
        }
      ]
    },
    {
      "cell_type": "code",
      "metadata": {
        "id": "NCdztiB2n-N6"
      },
      "source": [
        "print(twitter_dataframe_RNN)"
      ],
      "execution_count": null,
      "outputs": []
    },
    {
      "cell_type": "markdown",
      "metadata": {
        "id": "L2MKeW5msTeD"
      },
      "source": [
        "### BERT Sentiment Analysis"
      ]
    },
    {
      "cell_type": "code",
      "metadata": {
        "id": "TQB8r5BYKNrJ"
      },
      "source": [
        "twitter_dataframe_BERT = twitter_dataframe.copy()"
      ],
      "execution_count": 72,
      "outputs": []
    },
    {
      "cell_type": "code",
      "metadata": {
        "colab": {
          "base_uri": "https://localhost:8080/",
          "height": 204
        },
        "id": "eGZ2CLjeOBFs",
        "outputId": "0cc7bb76-736a-49ef-fd3d-66ebbaea5fe4"
      },
      "source": [
        "data_train = pd.read_excel('train.xlsx', dtype=str)\n",
        "data_train.head()"
      ],
      "execution_count": 76,
      "outputs": [
        {
          "output_type": "execute_result",
          "data": {
            "text/html": [
              "<div>\n",
              "<style scoped>\n",
              "    .dataframe tbody tr th:only-of-type {\n",
              "        vertical-align: middle;\n",
              "    }\n",
              "\n",
              "    .dataframe tbody tr th {\n",
              "        vertical-align: top;\n",
              "    }\n",
              "\n",
              "    .dataframe thead th {\n",
              "        text-align: right;\n",
              "    }\n",
              "</style>\n",
              "<table border=\"1\" class=\"dataframe\">\n",
              "  <thead>\n",
              "    <tr style=\"text-align: right;\">\n",
              "      <th></th>\n",
              "      <th>Reviews</th>\n",
              "      <th>Sentiment</th>\n",
              "    </tr>\n",
              "  </thead>\n",
              "  <tbody>\n",
              "    <tr>\n",
              "      <th>0</th>\n",
              "      <td>When I first tuned in on this morning news, I ...</td>\n",
              "      <td>neg</td>\n",
              "    </tr>\n",
              "    <tr>\n",
              "      <th>1</th>\n",
              "      <td>Mere thoughts of \"Going Overboard\" (aka \"Babes...</td>\n",
              "      <td>neg</td>\n",
              "    </tr>\n",
              "    <tr>\n",
              "      <th>2</th>\n",
              "      <td>Why does this movie fall WELL below standards?...</td>\n",
              "      <td>neg</td>\n",
              "    </tr>\n",
              "    <tr>\n",
              "      <th>3</th>\n",
              "      <td>Wow and I thought that any Steven Segal movie ...</td>\n",
              "      <td>neg</td>\n",
              "    </tr>\n",
              "    <tr>\n",
              "      <th>4</th>\n",
              "      <td>The story is seen before, but that does'n matt...</td>\n",
              "      <td>neg</td>\n",
              "    </tr>\n",
              "  </tbody>\n",
              "</table>\n",
              "</div>"
            ],
            "text/plain": [
              "                                             Reviews Sentiment\n",
              "0  When I first tuned in on this morning news, I ...       neg\n",
              "1  Mere thoughts of \"Going Overboard\" (aka \"Babes...       neg\n",
              "2  Why does this movie fall WELL below standards?...       neg\n",
              "3  Wow and I thought that any Steven Segal movie ...       neg\n",
              "4  The story is seen before, but that does'n matt...       neg"
            ]
          },
          "metadata": {
            "tags": []
          },
          "execution_count": 76
        }
      ]
    },
    {
      "cell_type": "code",
      "metadata": {
        "colab": {
          "base_uri": "https://localhost:8080/",
          "height": 204
        },
        "id": "4DLJF73kQiS8",
        "outputId": "4e8947d5-dbe6-4314-add9-82ac06809e5b"
      },
      "source": [
        "data_test = pd.read_excel('test.xlsx', dtype=str)\n",
        "data_test.head()"
      ],
      "execution_count": 75,
      "outputs": [
        {
          "output_type": "execute_result",
          "data": {
            "text/html": [
              "<div>\n",
              "<style scoped>\n",
              "    .dataframe tbody tr th:only-of-type {\n",
              "        vertical-align: middle;\n",
              "    }\n",
              "\n",
              "    .dataframe tbody tr th {\n",
              "        vertical-align: top;\n",
              "    }\n",
              "\n",
              "    .dataframe thead th {\n",
              "        text-align: right;\n",
              "    }\n",
              "</style>\n",
              "<table border=\"1\" class=\"dataframe\">\n",
              "  <thead>\n",
              "    <tr style=\"text-align: right;\">\n",
              "      <th></th>\n",
              "      <th>Reviews</th>\n",
              "      <th>Sentiment</th>\n",
              "    </tr>\n",
              "  </thead>\n",
              "  <tbody>\n",
              "    <tr>\n",
              "      <th>0</th>\n",
              "      <td>Who would have thought that a movie about a ma...</td>\n",
              "      <td>pos</td>\n",
              "    </tr>\n",
              "    <tr>\n",
              "      <th>1</th>\n",
              "      <td>After realizing what is going on around us ......</td>\n",
              "      <td>pos</td>\n",
              "    </tr>\n",
              "    <tr>\n",
              "      <th>2</th>\n",
              "      <td>I grew up watching the original Disney Cindere...</td>\n",
              "      <td>neg</td>\n",
              "    </tr>\n",
              "    <tr>\n",
              "      <th>3</th>\n",
              "      <td>David Mamet wrote the screenplay and made his ...</td>\n",
              "      <td>pos</td>\n",
              "    </tr>\n",
              "    <tr>\n",
              "      <th>4</th>\n",
              "      <td>Admittedly, I didn't have high expectations of...</td>\n",
              "      <td>neg</td>\n",
              "    </tr>\n",
              "  </tbody>\n",
              "</table>\n",
              "</div>"
            ],
            "text/plain": [
              "                                             Reviews Sentiment\n",
              "0  Who would have thought that a movie about a ma...       pos\n",
              "1  After realizing what is going on around us ......       pos\n",
              "2  I grew up watching the original Disney Cindere...       neg\n",
              "3  David Mamet wrote the screenplay and made his ...       pos\n",
              "4  Admittedly, I didn't have high expectations of...       neg"
            ]
          },
          "metadata": {
            "tags": []
          },
          "execution_count": 75
        }
      ]
    },
    {
      "cell_type": "code",
      "metadata": {
        "colab": {
          "base_uri": "https://localhost:8080/",
          "height": 510
        },
        "id": "QScpE91GQoQ7",
        "outputId": "57f97884-db53-449a-d2c2-e711426437f7"
      },
      "source": [
        "# Test and Train datesets\n",
        "(X_train, y_train), (X_test, y_test), preprocess = text.texts_from_df(train_df=data_train, \n",
        "                   text_column='Reviews', label_columns='Sentiment', \n",
        "                   val_df=data_test, \n",
        "                   maxlen=400, \n",
        "                   preprocess_mode='bert')"
      ],
      "execution_count": 77,
      "outputs": [
        {
          "output_type": "stream",
          "text": [
            "['neg', 'pos']\n",
            "   neg  pos\n",
            "0  1.0  0.0\n",
            "1  1.0  0.0\n",
            "2  1.0  0.0\n",
            "3  1.0  0.0\n",
            "4  1.0  0.0\n",
            "['neg', 'pos']\n",
            "   neg  pos\n",
            "0  0.0  1.0\n",
            "1  0.0  1.0\n",
            "2  1.0  0.0\n",
            "3  0.0  1.0\n",
            "4  1.0  0.0\n",
            "downloading pretrained BERT model (uncased_L-12_H-768_A-12.zip)...\n",
            "[██████████████████████████████████████████████████]\n",
            "extracting pretrained BERT model...\n",
            "done.\n",
            "\n",
            "cleanup downloaded zip...\n",
            "done.\n",
            "\n",
            "preprocessing train...\n",
            "language: en\n"
          ],
          "name": "stdout"
        },
        {
          "output_type": "display_data",
          "data": {
            "text/html": [
              "done."
            ],
            "text/plain": [
              "<IPython.core.display.HTML object>"
            ]
          },
          "metadata": {
            "tags": []
          }
        },
        {
          "output_type": "stream",
          "text": [
            "Is Multi-Label? False\n",
            "preprocessing test...\n",
            "language: en\n"
          ],
          "name": "stdout"
        },
        {
          "output_type": "display_data",
          "data": {
            "text/html": [
              "done."
            ],
            "text/plain": [
              "<IPython.core.display.HTML object>"
            ]
          },
          "metadata": {
            "tags": []
          }
        }
      ]
    },
    {
      "cell_type": "code",
      "metadata": {
        "colab": {
          "base_uri": "https://localhost:8080/"
        },
        "id": "KoKPlMCaQskG",
        "outputId": "5560af8f-c916-4fd6-d866-513a13dbfa6f"
      },
      "source": [
        "X_train[0].shape"
      ],
      "execution_count": 78,
      "outputs": [
        {
          "output_type": "execute_result",
          "data": {
            "text/plain": [
              "(25000, 400)"
            ]
          },
          "metadata": {
            "tags": []
          },
          "execution_count": 78
        }
      ]
    },
    {
      "cell_type": "code",
      "metadata": {
        "colab": {
          "base_uri": "https://localhost:8080/"
        },
        "id": "bAHBCwMwQuzs",
        "outputId": "67e293d1-ada9-460c-f309-87c98527088c"
      },
      "source": [
        "# BERT model\n",
        "model = text.text_classifier(name='bert', train_data=(X_train, y_train), \n",
        "                             preproc=preprocess)"
      ],
      "execution_count": 79,
      "outputs": [
        {
          "output_type": "stream",
          "text": [
            "Is Multi-Label? False\n",
            "maxlen is 400\n",
            "done.\n"
          ],
          "name": "stdout"
        }
      ]
    },
    {
      "cell_type": "code",
      "metadata": {
        "id": "9JdyH4bBRFgB"
      },
      "source": [
        "# Configure the training process\n",
        "learner = ktrain.get_learner(model=model, \n",
        "                             train_data=(X_train, y_train), \n",
        "                             val_data=(X_test, y_test), \n",
        "                             batch_size=6)"
      ],
      "execution_count": 80,
      "outputs": []
    },
    {
      "cell_type": "code",
      "metadata": {
        "id": "AmeQivEnQ-tI"
      },
      "source": [
        "# BERT train\n",
        "learner.fit_onecycle(lr=2e-5, epochs=1)"
      ],
      "execution_count": null,
      "outputs": []
    },
    {
      "cell_type": "code",
      "metadata": {
        "colab": {
          "base_uri": "https://localhost:8080/"
        },
        "id": "PVWeCFXeRUnB",
        "outputId": "8ba87e72-4b46-4501-aaf7-b4394e5bd451"
      },
      "source": [
        "learner"
      ],
      "execution_count": 82,
      "outputs": [
        {
          "output_type": "execute_result",
          "data": {
            "text/plain": [
              "<ktrain.text.learner.BERTTextClassLearner at 0x7fe147004850>"
            ]
          },
          "metadata": {
            "tags": []
          },
          "execution_count": 82
        }
      ]
    },
    {
      "cell_type": "code",
      "metadata": {
        "id": "N5XHlxIpRWzI"
      },
      "source": [
        "# Set the BERT predictor to predict the sentiment values\n",
        "predictor = ktrain.get_predictor(model=learner.model, preproc=preprocess)"
      ],
      "execution_count": 83,
      "outputs": []
    },
    {
      "cell_type": "code",
      "metadata": {
        "id": "buDDnLu-Rfdg"
      },
      "source": [
        "testing_data = [ 'This movie was horrible! The plot was boring. Acting was okay, though.',\n",
        "                'The film really sucked. I want my money back.',\n",
        "                'The plot had too many holes.',\n",
        "                'What a beautiful romantic comedy. 10/10 would see again!',\n",
        "                ]"
      ],
      "execution_count": 84,
      "outputs": []
    },
    {
      "cell_type": "code",
      "metadata": {
        "colab": {
          "base_uri": "https://localhost:8080/"
        },
        "id": "bHbYfMP9RhIX",
        "outputId": "72d0f282-7cbb-4497-b0f9-547106edf968"
      },
      "source": [
        "predictor.predict(texts=testing_data)"
      ],
      "execution_count": 85,
      "outputs": [
        {
          "output_type": "execute_result",
          "data": {
            "text/plain": [
              "['neg', 'neg', 'neg', 'pos']"
            ]
          },
          "metadata": {
            "tags": []
          },
          "execution_count": 85
        }
      ]
    },
    {
      "cell_type": "code",
      "metadata": {
        "colab": {
          "base_uri": "https://localhost:8080/"
        },
        "id": "pRU2m75fRvvd",
        "outputId": "60496422-9622-4e72-b680-fa57cc91191f"
      },
      "source": [
        "predictor.predict(texts=testing_data, return_proba=True)"
      ],
      "execution_count": 86,
      "outputs": [
        {
          "output_type": "execute_result",
          "data": {
            "text/plain": [
              "array([[0.99504197, 0.00495806],\n",
              "       [0.9910486 , 0.00895139],\n",
              "       [0.9709074 , 0.02909257],\n",
              "       [0.0044155 , 0.99558455]], dtype=float32)"
            ]
          },
          "metadata": {
            "tags": []
          },
          "execution_count": 86
        }
      ]
    },
    {
      "cell_type": "code",
      "metadata": {
        "id": "gwiq-mUmR3Cl"
      },
      "source": [
        "# Sentiment 'polarity' calculation for tweets - The BERT model instant labels the tweets with the sentiment tag\n",
        "twitter_dataframe_BERT['Sentiment'] = twitter_dataframe_BERT['Tweet_text'].apply(lambda tweet: predictor.predict(texts=tweet))"
      ],
      "execution_count": 88,
      "outputs": []
    },
    {
      "cell_type": "code",
      "metadata": {
        "id": "Vnus6rffSYWV"
      },
      "source": [
        "# Set the Sentiment analysis tool name\n",
        "twitter_dataframe_BERT['Tool'] = 'BERT'"
      ],
      "execution_count": 89,
      "outputs": []
    },
    {
      "cell_type": "code",
      "metadata": {
        "colab": {
          "base_uri": "https://localhost:8080/",
          "height": 204
        },
        "id": "srAW4NLsmBX_",
        "outputId": "9d7892d7-fc50-40a3-807c-52a492282c5c"
      },
      "source": [
        "twitter_dataframe_BERT.head()"
      ],
      "execution_count": 106,
      "outputs": [
        {
          "output_type": "execute_result",
          "data": {
            "text/html": [
              "<div>\n",
              "<style scoped>\n",
              "    .dataframe tbody tr th:only-of-type {\n",
              "        vertical-align: middle;\n",
              "    }\n",
              "\n",
              "    .dataframe tbody tr th {\n",
              "        vertical-align: top;\n",
              "    }\n",
              "\n",
              "    .dataframe thead th {\n",
              "        text-align: right;\n",
              "    }\n",
              "</style>\n",
              "<table border=\"1\" class=\"dataframe\">\n",
              "  <thead>\n",
              "    <tr style=\"text-align: right;\">\n",
              "      <th></th>\n",
              "      <th>Time</th>\n",
              "      <th>UserName</th>\n",
              "      <th>Tweet_text</th>\n",
              "      <th>All_Hashtags</th>\n",
              "      <th>Followers_count</th>\n",
              "      <th>Sentiment</th>\n",
              "      <th>Tool</th>\n",
              "    </tr>\n",
              "  </thead>\n",
              "  <tbody>\n",
              "    <tr>\n",
              "      <th>0</th>\n",
              "      <td>2021-07-15 23:59:59</td>\n",
              "      <td>EncompassBt</td>\n",
              "      <td>Invest time in business process automation and...</td>\n",
              "      <td>['encompassbt', 'ITConsulting', 'ITStrategy', ...</td>\n",
              "      <td>1524</td>\n",
              "      <td>pos</td>\n",
              "      <td>BERT</td>\n",
              "    </tr>\n",
              "    <tr>\n",
              "      <th>1</th>\n",
              "      <td>2021-07-15 23:59:59</td>\n",
              "      <td>gregtv1</td>\n",
              "      <td>@_juliabradley Dying of covid 19 is a bit of a...</td>\n",
              "      <td>[]</td>\n",
              "      <td>1044</td>\n",
              "      <td>neg</td>\n",
              "      <td>BERT</td>\n",
              "    </tr>\n",
              "    <tr>\n",
              "      <th>2</th>\n",
              "      <td>2021-07-15 23:59:59</td>\n",
              "      <td>gurmeet_judge</td>\n",
              "      <td>Invest time in business process automation and...</td>\n",
              "      <td>['encompassbt', 'ITConsulting', 'ITStrategy', ...</td>\n",
              "      <td>884</td>\n",
              "      <td>pos</td>\n",
              "      <td>BERT</td>\n",
              "    </tr>\n",
              "    <tr>\n",
              "      <th>3</th>\n",
              "      <td>2021-07-15 23:59:59</td>\n",
              "      <td>RobMaaddi</td>\n",
              "      <td>Washington Arizona Indianapolis and Los Angele...</td>\n",
              "      <td>[]</td>\n",
              "      <td>19180</td>\n",
              "      <td>pos</td>\n",
              "      <td>BERT</td>\n",
              "    </tr>\n",
              "    <tr>\n",
              "      <th>4</th>\n",
              "      <td>2021-07-15 23:59:58</td>\n",
              "      <td>AnneLinstatter</td>\n",
              "      <td>What's worse airport waits or auto traffic Or ...</td>\n",
              "      <td>['vacations', 'Covid', 'travel', 'sanbernardin...</td>\n",
              "      <td>528</td>\n",
              "      <td>neg</td>\n",
              "      <td>BERT</td>\n",
              "    </tr>\n",
              "  </tbody>\n",
              "</table>\n",
              "</div>"
            ],
            "text/plain": [
              "                  Time        UserName  ... Sentiment  Tool\n",
              "0  2021-07-15 23:59:59     EncompassBt  ...       pos  BERT\n",
              "1  2021-07-15 23:59:59         gregtv1  ...       neg  BERT\n",
              "2  2021-07-15 23:59:59   gurmeet_judge  ...       pos  BERT\n",
              "3  2021-07-15 23:59:59       RobMaaddi  ...       pos  BERT\n",
              "4  2021-07-15 23:59:58  AnneLinstatter  ...       neg  BERT\n",
              "\n",
              "[5 rows x 7 columns]"
            ]
          },
          "metadata": {
            "tags": []
          },
          "execution_count": 106
        }
      ]
    },
    {
      "cell_type": "code",
      "metadata": {
        "colab": {
          "base_uri": "https://localhost:8080/"
        },
        "id": "Ytaue0wTSaec",
        "outputId": "13bc5ed1-4913-4e75-e777-37cf49b74ebc"
      },
      "source": [
        "# Sentiment informations with BERT\n",
        "twitter_dataframe_BERT['Sentiment'].value_counts()"
      ],
      "execution_count": 90,
      "outputs": [
        {
          "output_type": "execute_result",
          "data": {
            "text/plain": [
              "neg    31\n",
              "pos    19\n",
              "Name: Sentiment, dtype: int64"
            ]
          },
          "metadata": {
            "tags": []
          },
          "execution_count": 90
        }
      ]
    },
    {
      "cell_type": "markdown",
      "metadata": {
        "id": "BSsfERpgwAAq"
      },
      "source": [
        "### Sentiment Analysis Visualisation Helper Methods"
      ]
    },
    {
      "cell_type": "code",
      "metadata": {
        "id": "kf3Jzg1CSmjL"
      },
      "source": [
        "# Calculate the percentage of the different sentiment categories/labels ( - for example 30% weakly_positive with this tool )\n",
        "def percentage(part, whole):\n",
        "  temp = 100 * float(part) / float(whole)\n",
        "  return format(temp, '.2f')"
      ],
      "execution_count": 91,
      "outputs": []
    },
    {
      "cell_type": "code",
      "metadata": {
        "id": "yDLUh-1bTks_"
      },
      "source": [
        "# Visualize the sentiment percentages on a chart \n",
        "def visualization(positive, wpositive, spositive, negative, wnegative, snegative, neutral, keyword, limit, tool):\n",
        "    labels = ['Positive [' + str(positive) + '%]', 'Weakly Positive [' + str(wpositive) + '%]',\n",
        "              'Strongly Positive [' + str(spositive) + '%]', 'Neutral [' + str(neutral) + '%]',\n",
        "              'Negative [' + str(negative) + '%]', 'Weakly Negative [' + str(wnegative) + '%]',\n",
        "              'Strongly Negative [' + str(snegative) + '%]']\n",
        "    sizes = [positive, wpositive, spositive, neutral, negative, wnegative, snegative]\n",
        "    colors = ['yellowgreen', 'lightgreen', 'darkgreen', 'gold', 'red', 'lightsalmon', 'darkred']\n",
        "    patches, texts = plt.pie(sizes, colors=colors, startangle=90)\n",
        "    plt.legend(patches, labels, loc=\"best\")\n",
        "    plt.title('How people are reacting on ' + keyword + ' by analyzing ' + str(limit) + ' Tweets with ' + tool)\n",
        "    plt.axis('equal')\n",
        "    plt.tight_layout()\n",
        "    plt.show()"
      ],
      "execution_count": 92,
      "outputs": []
    },
    {
      "cell_type": "code",
      "metadata": {
        "id": "UxY0TbO7TKgk"
      },
      "source": [
        "def visualization_for_BERT(positive, neutral, negative, keyword, limit):\n",
        "  labels = ['Positive [' + str(positive) + '%]','Neutral [' + str(neutral) + '%]',\n",
        "            'Negative [' + str(negative) + '%]']\n",
        "  sizes = [positive, neutral, negative]\n",
        "  colors = ['lightgreen', 'gold', 'red']\n",
        "  patches, texts = plt.pie(sizes, colors=colors, startangle=90)\n",
        "  plt.title('How people are reacting on ' + keyword + ' by analyzing ' + str(limit) + ' Tweets with BERT')\n",
        "  plt.legend(patches, labels, loc=\"best\")\n",
        "  plt.axis('equal')\n",
        "  plt.tight_layout()\n",
        "  plt.show()"
      ],
      "execution_count": 103,
      "outputs": []
    },
    {
      "cell_type": "code",
      "metadata": {
        "id": "p0voVMS2ZM2W"
      },
      "source": [
        "# Return with a Dictionary with the selected dataframe sentiment labels count\n",
        "# Note: The None sentiment labels also goes to the neutral section\n",
        "def tool_sentiment_results(dataframe_sentiment_column):\n",
        "  sentiment_result = {'neutral': 0, \n",
        "                      'strongly_negative': 0,  \n",
        "                      'negative': 0,\n",
        "                      'weakly_negative': 0,\n",
        "                      'weakly_positive': 0,\n",
        "                      'positive': 0,\n",
        "                      'strongly_positive': 0 }\n",
        "\n",
        "  for value in dataframe_sentiment_column:\n",
        "    if value in sentiment_result:\n",
        "      if value == 'strongly_negative':\n",
        "        sentiment_result['strongly_negative'] += 1\n",
        "      elif value == 'negative':\n",
        "        sentiment_result['negative'] += 1\n",
        "      elif value == 'weakly_negative':\n",
        "        sentiment_result['weakly_negative'] += 1\n",
        "      elif value == 'neutral':\n",
        "        sentiment_result['neutral'] += 1\n",
        "      elif value == 'weakly_positive':\n",
        "        sentiment_result['weakly_positive'] += 1\n",
        "      elif value == 'positive':\n",
        "        sentiment_result['positive'] += 1\n",
        "      elif value == 'strongly_positive':\n",
        "        sentiment_result['strongly_positive'] += 1\n",
        "\n",
        "  # Add the None values to the neutral as well\n",
        "  sentiment_result['neutral'] += dataframe_sentiment_column.isna().sum()\n",
        "\n",
        "  return sentiment_result"
      ],
      "execution_count": 168,
      "outputs": []
    },
    {
      "cell_type": "code",
      "metadata": {
        "id": "AOQaEqFeiq-9"
      },
      "source": [
        "# Visualize the sentiment percentages of the selected tool and keyword information using the sentiment labels from the tools dataframe\n",
        "def sentiment_result_label_category_counts_visualisazion(dataframe, tool_name, keyword):\n",
        "  datraframe_size = len(dataframe)\n",
        "  dataframe_sentiment_labels_result = tool_sentiment_results(dataframe_sentiment_column=dataframe['Sentiment'])\n",
        "\n",
        "  pos_percent       = percentage(part=dataframe_sentiment_labels_result['positive'], whole=datraframe_size)\n",
        "  wpositive_percent = percentage(part=dataframe_sentiment_labels_result['weakly_positive'], whole=datraframe_size)\n",
        "  spositive_percent = percentage(part=dataframe_sentiment_labels_result['strongly_positive'], whole=datraframe_size)\n",
        "  negative_percent  = percentage(part=dataframe_sentiment_labels_result['negative'], whole=datraframe_size)\n",
        "  wnegative_percent = percentage(part=dataframe_sentiment_labels_result['weakly_negative'], whole=datraframe_size)\n",
        "  snegative_percent = percentage(part=dataframe_sentiment_labels_result['strongly_negative'], whole=datraframe_size)\n",
        "  neutral_percent   = percentage(part=dataframe_sentiment_labels_result['neutral'], whole=datraframe_size)\n",
        "\n",
        "  visualization(positive=pos_percent, wpositive=wpositive_percent, spositive=spositive_percent, negative=negative_percent, \n",
        "                wnegative=wnegative_percent, snegative=snegative_percent, neutral=neutral_percent, keyword=keyword, limit=datraframe_size, tool=tool_name)\n"
      ],
      "execution_count": 138,
      "outputs": []
    },
    {
      "cell_type": "markdown",
      "metadata": {
        "id": "rwVAiyneSs2B"
      },
      "source": [
        "### Sentiment Analysis Visualisations for the Different Tools"
      ]
    },
    {
      "cell_type": "markdown",
      "metadata": {
        "id": "SOlcYCVwWgKR"
      },
      "source": [
        "#### TextBlob"
      ]
    },
    {
      "cell_type": "code",
      "metadata": {
        "colab": {
          "base_uri": "https://localhost:8080/",
          "height": 314
        },
        "id": "ReVrYQ5bSxLV",
        "outputId": "a3725fbb-d805-4255-a287-5228bde5fa65"
      },
      "source": [
        "sentiment_result_label_category_counts_visualisazion(dataframe=twitter_dataframe_TextBlob, tool_name='TextBlob', keyword='covid')"
      ],
      "execution_count": 159,
      "outputs": [
        {
          "output_type": "stream",
          "text": [
            "<class 'str'>\n"
          ],
          "name": "stdout"
        },
        {
          "output_type": "display_data",
          "data": {
            "image/png": "[encoded data removed]",
            "text/plain": [
              "<Figure size 432x288 with 1 Axes>"
            ]
          },
          "metadata": {
            "tags": []
          }
        }
      ]
    },
    {
      "cell_type": "markdown",
      "metadata": {
        "id": "mbU5iIqYiM1Y"
      },
      "source": [
        "#### NLTK - Vader Lexicon"
      ]
    },
    {
      "cell_type": "code",
      "metadata": {
        "colab": {
          "base_uri": "https://localhost:8080/",
          "height": 297
        },
        "id": "EaDbXFm3iMfV",
        "outputId": "90e559e0-b00a-4b19-8968-14eb33e9c243"
      },
      "source": [
        "sentiment_result_label_category_counts_visualisazion(dataframe=twitter_dataframe_NLTK, tool_name='NLTK - Vader Lexicon', keyword='covid')"
      ],
      "execution_count": 101,
      "outputs": [
        {
          "output_type": "display_data",
          "data": {
            "image/png": "[encoded data removed]",
            "text/plain": [
              "<Figure size 432x288 with 1 Axes>"
            ]
          },
          "metadata": {
            "tags": []
          }
        }
      ]
    },
    {
      "cell_type": "markdown",
      "metadata": {
        "id": "817bHPcgie39"
      },
      "source": [
        "#### RNN"
      ]
    },
    {
      "cell_type": "code",
      "metadata": {
        "colab": {
          "base_uri": "https://localhost:8080/",
          "height": 297
        },
        "id": "qfj6xz64ihe8",
        "outputId": "e122dd67-32b9-4239-b190-9807f9479a43"
      },
      "source": [
        "sentiment_result_label_category_counts_visualisazion(dataframe=twitter_dataframe_RNN, tool_name='RNN', keyword='covid')\n",
        "\n",
        "# Neutral section can appears in some cases because of the 'None' values"
      ],
      "execution_count": 170,
      "outputs": [
        {
          "output_type": "display_data",
          "data": {
            "image/png": "[encoded data removed]",
            "text/plain": [
              "<Figure size 432x288 with 1 Axes>"
            ]
          },
          "metadata": {
            "tags": []
          }
        }
      ]
    },
    {
      "cell_type": "markdown",
      "metadata": {
        "id": "SZsKJl3pj2nv"
      },
      "source": [
        "#### BERT"
      ]
    },
    {
      "cell_type": "code",
      "metadata": {
        "colab": {
          "base_uri": "https://localhost:8080/",
          "height": 297
        },
        "id": "ux8cfPRGj3qB",
        "outputId": "c34dd6f8-8059-41f5-d480-fb0f4f299ecc"
      },
      "source": [
        "dataframe_size=len(twitter_dataframe_BERT)\n",
        "\n",
        "dataframe_sentiment_labels=list(twitter_dataframe_BERT[\"Sentiment\"])\n",
        "pos_num = [\"pos\" == label for label in dataframe_sentiment_labels].count(True)\n",
        "neg_num = [\"neg\" == label for label in dataframe_sentiment_labels].count(True)\n",
        "\n",
        "pos_percent = percentage(part=pos_num, whole=datraframe_size)\n",
        "neg_percent = percentage(part=neg_num, whole=datraframe_size)\n",
        "\n",
        "visualization_for_BERT(positive=pos_percent, neutral=0, negative=neg_percent, keyword='covid', limit=dataframe_size)"
      ],
      "execution_count": 108,
      "outputs": [
        {
          "output_type": "display_data",
          "data": {
            "image/png": "[encoded data removed]",
            "text/plain": [
              "<Figure size 432x288 with 1 Axes>"
            ]
          },
          "metadata": {
            "tags": []
          }
        }
      ]
    },
    {
      "cell_type": "markdown",
      "metadata": {
        "id": "4cPi9C4EsoD1"
      },
      "source": [
        "## Information Extraction"
      ]
    },
    {
      "cell_type": "markdown",
      "metadata": {
        "id": "B7RbaIZxsvUi"
      },
      "source": [
        "## Named Entity Recognition (NER)"
      ]
    }
  ]
}